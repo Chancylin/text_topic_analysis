{
 "cells": [
  {
   "cell_type": "code",
   "execution_count": 1,
   "metadata": {},
   "outputs": [],
   "source": [
    "#import libraries\n",
    "from bs4 import BeautifulSoup\n",
    "import requests\n",
    "import pandas as pd\n",
    "import numpy as np\n",
    "\n",
    "from time import sleep\n",
    "from random import randint\n"
   ]
  },
  {
   "cell_type": "code",
   "execution_count": 7,
   "metadata": {},
   "outputs": [],
   "source": [
    "# Scrape the desired url, only one page\n",
    "\n",
    "url = 'http://www.guide2research.com/topconf/machine-learning'\n",
    "page = requests.get(url)\n",
    "soup = BeautifulSoup(page.content, 'html.parser')"
   ]
  },
  {
   "cell_type": "markdown",
   "metadata": {},
   "source": [
    "### ==== some inspection to understand the html file structure ===="
   ]
  },
  {
   "cell_type": "code",
   "execution_count": 11,
   "metadata": {
    "collapsed": true,
    "jupyter": {
     "outputs_hidden": true
    }
   },
   "outputs": [
    {
     "data": {
      "text/plain": [
       "[<table border=\"0\" cellpadding=\"0\" cellspacing=\"0\" style=\"margin:1px;padding:1px;\" width=\"100%\">\n",
       " <tr>\n",
       " <td style=\"padding:1px;margin:0px;vertical-align:middle\" width=\"35px\">\n",
       " <center><i style=\"font-size:14px;\"></i></center>\n",
       " </td>\n",
       " <td style=\"padding:1px;margin:0px;vertical-align:middle\" width=\"65px\">\n",
       " <center><i style=\"font-size:14px;\"><i>H5-index</i></i></center>\n",
       " </td>\n",
       " <td style=\"padding:1px;margin:0px;vertical-align:middle\" width=\"115px\">\n",
       " <center><i style=\"font-size:14px;\"><i>Publisher</i></i></center>\n",
       " </td>\n",
       " <td style=\"margin:1px;padding:1px;vertical-align:middle;\">\n",
       " <center><i style=\"font-size:14px;\"><i>Conference Details</i></i></center>\n",
       " </td>\n",
       " </tr>\n",
       " </table>,\n",
       " <table border=\"0\" cellpadding=\"0\" cellspacing=\"0\" style=\"margin:1px;padding:1px;\" width=\"100%\">\n",
       " <tr>\n",
       " <td rowspan=\"2\" style=\"padding:1px;margin:0px;vertical-align:middle\" width=\"35px\">\n",
       " <center><i style=\"font-size:18px;\"></i></center>\n",
       " </td>\n",
       " <td rowspan=\"2\" style=\"padding:1px;margin:0px;vertical-align:middle\" width=\"65px\">\n",
       " <center><b style=\"font-size:22px;\">240</b></center>\n",
       " </td>\n",
       " <td rowspan=\"2\" style=\"padding:1px;margin:0px;vertical-align:middle\" width=\"115px\">\n",
       " <img src=\"/img/IEEE_s.png\" style=\"vertical-align:middle;width:110px;\"/>\n",
       " </td>\n",
       " <td colspan=\"3\" style=\"margin:1px;padding:1px;vertical-align:middle;\"><h4 style=\"padding:1px;margin:1px;font-size:14px;\"><a href=\"/?p=13992\">\n",
       " CVPR : IEEE/CVF Conference on Computer Vision and Pattern Recognition</a>\n",
       " </h4>\n",
       " </td>\n",
       " </tr>\n",
       " <tr>\n",
       " <td style=\"padding:1px;margin:0px;vertical-align:middle;\" valign=\"top\" width=\"400px\">\n",
       " <div style=\"padding:0px;margin:0px;\">Jun 16, 2020 - Jun 18, 2020 - Seattle , <b>United States</b></div>\n",
       " <div style=\"padding:0px;margin:0px;font-size:11px;line-height:11px;\"><a href=\"http://cvpr2020.thecvf.com/\" style=\"font-size:11px;line-height:11px;margin:0px;padding:0px;\" target=\"_blank\">http://cvpr2020.thecvf.com/</a></div>\n",
       " </td>\n",
       " <td style=\"padding:1px;margin:0px;text-align:right;vertical-align:middle;\" width=\"220px\"></td>\n",
       " </tr>\n",
       " </table>,\n",
       " <table border=\"0\" cellpadding=\"0\" cellspacing=\"0\" style=\"margin:1px;padding:1px;\" width=\"100%\">\n",
       " <tr>\n",
       " <td rowspan=\"2\" style=\"padding:1px;margin:0px;vertical-align:middle\" width=\"35px\">\n",
       " <center><i style=\"font-size:18px;\"></i></center>\n",
       " </td>\n",
       " <td rowspan=\"2\" style=\"padding:1px;margin:0px;vertical-align:middle\" width=\"65px\">\n",
       " <center><b style=\"font-size:22px;\">169</b></center>\n",
       " </td>\n",
       " <td rowspan=\"2\" style=\"padding:1px;margin:0px;vertical-align:middle\" width=\"115px\">\n",
       " <img src=\"/img/NIPS_s.png\" style=\"vertical-align:middle;width:110px;\"/>\n",
       " </td>\n",
       " <td colspan=\"3\" style=\"margin:1px;padding:1px;vertical-align:middle;\"><h4 style=\"padding:1px;margin:1px;font-size:14px;\"><a href=\"/?p=14985\">\n",
       " NeurIPS : Neural Information Processing Systems (NIPS)</a>\n",
       " </h4>\n",
       " </td>\n",
       " </tr>\n",
       " <tr>\n",
       " <td style=\"padding:1px;margin:0px;vertical-align:middle;\" valign=\"top\" width=\"400px\">\n",
       " <div style=\"padding:0px;margin:0px;\">Dec 6, 2020 - Dec 12, 2020 - Vancouver , <b>Canada</b></div>\n",
       " <div style=\"padding:0px;margin:0px;font-size:11px;line-height:11px;\"><a href=\"https://nips.cc/Conferences/2020/CallForPapers\" style=\"font-size:11px;line-height:11px;margin:0px;padding:0px;\" target=\"_blank\">https://nips.cc/Conferences/2020/CallForPapers</a></div>\n",
       " </td>\n",
       " <td style=\"padding:1px;margin:0px;text-align:right;vertical-align:middle;\" width=\"220px\"></td>\n",
       " </tr>\n",
       " </table>,\n",
       " <table border=\"0\" cellpadding=\"0\" cellspacing=\"0\" style=\"margin:1px;padding:1px;\" width=\"100%\">\n",
       " <tr>\n",
       " <td rowspan=\"2\" style=\"padding:1px;margin:0px;vertical-align:middle\" width=\"35px\">\n",
       " <center><i style=\"font-size:18px;\"></i></center>\n",
       " </td>\n",
       " <td rowspan=\"2\" style=\"padding:1px;margin:0px;vertical-align:middle\" width=\"65px\">\n",
       " <center><b style=\"font-size:22px;\">137</b></center>\n",
       " </td>\n",
       " <td rowspan=\"2\" style=\"padding:1px;margin:0px;vertical-align:middle\" width=\"115px\">\n",
       " <img src=\"/img/Springer_s.png\" style=\"vertical-align:middle;width:110px;\"/>\n",
       " </td>\n",
       " <td colspan=\"3\" style=\"margin:1px;padding:1px;vertical-align:middle;\"><h4 style=\"padding:1px;margin:1px;font-size:14px;\"><a href=\"/?p=13927\">\n",
       " ECCV : European Conference on Computer Vision</a>\n",
       " </h4>\n",
       " </td>\n",
       " </tr>\n",
       " <tr>\n",
       " <td style=\"padding:1px;margin:0px;vertical-align:middle;\" valign=\"top\" width=\"400px\">\n",
       " <div style=\"padding:0px;margin:0px;\">Aug 23, 2020 - Aug 28, 2020 - Glasgow , <b>United Kingdom</b></div>\n",
       " <div style=\"padding:0px;margin:0px;font-size:11px;line-height:11px;\"><a href=\"https://eccv2020.eu/\" style=\"font-size:11px;line-height:11px;margin:0px;padding:0px;\" target=\"_blank\">https://eccv2020.eu/</a></div>\n",
       " </td>\n",
       " <td style=\"padding:1px;margin:0px;text-align:right;vertical-align:middle;\" width=\"220px\"></td>\n",
       " </tr>\n",
       " </table>]"
      ]
     },
     "execution_count": 11,
     "metadata": {},
     "output_type": "execute_result"
    }
   ],
   "source": [
    "soup.find_all(\"table\")[0:4]"
   ]
  },
  {
   "cell_type": "code",
   "execution_count": 13,
   "metadata": {},
   "outputs": [],
   "source": [
    "context = soup.find(\"div\", {\"id\": \"ajax_content\"})"
   ]
  },
  {
   "cell_type": "code",
   "execution_count": 15,
   "metadata": {},
   "outputs": [],
   "source": [
    "tables = context.find_all(\"table\")"
   ]
  },
  {
   "cell_type": "code",
   "execution_count": 17,
   "metadata": {},
   "outputs": [
    {
     "name": "stdout",
     "output_type": "stream",
     "text": [
      "90\n"
     ]
    }
   ],
   "source": [
    "print(len(tables))\n",
    "table_test = tables[0]"
   ]
  },
  {
   "cell_type": "code",
   "execution_count": 23,
   "metadata": {
    "collapsed": true,
    "jupyter": {
     "outputs_hidden": true
    }
   },
   "outputs": [
    {
     "data": {
      "text/plain": [
       "<table border=\"0\" cellpadding=\"0\" cellspacing=\"0\" style=\"margin:1px;padding:1px;\" width=\"100%\">\n",
       "<tr>\n",
       "<td rowspan=\"2\" style=\"padding:1px;margin:0px;vertical-align:middle\" width=\"35px\">\n",
       "<center><i style=\"font-size:18px;\"></i></center>\n",
       "</td>\n",
       "<td rowspan=\"2\" style=\"padding:1px;margin:0px;vertical-align:middle\" width=\"65px\">\n",
       "<center><b style=\"font-size:22px;\">240</b></center>\n",
       "</td>\n",
       "<td rowspan=\"2\" style=\"padding:1px;margin:0px;vertical-align:middle\" width=\"115px\">\n",
       "<img src=\"/img/IEEE_s.png\" style=\"vertical-align:middle;width:110px;\"/>\n",
       "</td>\n",
       "<td colspan=\"3\" style=\"margin:1px;padding:1px;vertical-align:middle;\"><h4 style=\"padding:1px;margin:1px;font-size:14px;\"><a href=\"/?p=13992\">\n",
       "CVPR : IEEE/CVF Conference on Computer Vision and Pattern Recognition</a>\n",
       "</h4>\n",
       "</td>\n",
       "</tr>\n",
       "<tr>\n",
       "<td style=\"padding:1px;margin:0px;vertical-align:middle;\" valign=\"top\" width=\"400px\">\n",
       "<div style=\"padding:0px;margin:0px;\">Jun 16, 2020 - Jun 18, 2020 - Seattle , <b>United States</b></div>\n",
       "<div style=\"padding:0px;margin:0px;font-size:11px;line-height:11px;\"><a href=\"http://cvpr2020.thecvf.com/\" style=\"font-size:11px;line-height:11px;margin:0px;padding:0px;\" target=\"_blank\">http://cvpr2020.thecvf.com/</a></div>\n",
       "</td>\n",
       "<td style=\"padding:1px;margin:0px;text-align:right;vertical-align:middle;\" width=\"220px\"></td>\n",
       "</tr>\n",
       "</table>"
      ]
     },
     "execution_count": 23,
     "metadata": {},
     "output_type": "execute_result"
    }
   ],
   "source": [
    "table_test"
   ]
  },
  {
   "cell_type": "code",
   "execution_count": 19,
   "metadata": {},
   "outputs": [],
   "source": [
    "row = table_test.find_all(\"tr\")"
   ]
  },
  {
   "cell_type": "code",
   "execution_count": 33,
   "metadata": {
    "collapsed": true,
    "jupyter": {
     "outputs_hidden": true
    }
   },
   "outputs": [
    {
     "data": {
      "text/plain": [
       "[<tr>\n",
       " <td rowspan=\"2\" style=\"padding:1px;margin:0px;vertical-align:middle\" width=\"35px\">\n",
       " <center><i style=\"font-size:18px;\"></i></center>\n",
       " </td>\n",
       " <td rowspan=\"2\" style=\"padding:1px;margin:0px;vertical-align:middle\" width=\"65px\">\n",
       " <center><b style=\"font-size:22px;\">240</b></center>\n",
       " </td>\n",
       " <td rowspan=\"2\" style=\"padding:1px;margin:0px;vertical-align:middle\" width=\"115px\">\n",
       " <img src=\"/img/IEEE_s.png\" style=\"vertical-align:middle;width:110px;\"/>\n",
       " </td>\n",
       " <td colspan=\"3\" style=\"margin:1px;padding:1px;vertical-align:middle;\"><h4 style=\"padding:1px;margin:1px;font-size:14px;\"><a href=\"/?p=13992\">\n",
       " CVPR : IEEE/CVF Conference on Computer Vision and Pattern Recognition</a>\n",
       " </h4>\n",
       " </td>\n",
       " </tr>,\n",
       " <tr>\n",
       " <td style=\"padding:1px;margin:0px;vertical-align:middle;\" valign=\"top\" width=\"400px\">\n",
       " <div style=\"padding:0px;margin:0px;\">Jun 16, 2020 - Jun 18, 2020 - Seattle , <b>United States</b></div>\n",
       " <div style=\"padding:0px;margin:0px;font-size:11px;line-height:11px;\"><a href=\"http://cvpr2020.thecvf.com/\" style=\"font-size:11px;line-height:11px;margin:0px;padding:0px;\" target=\"_blank\">http://cvpr2020.thecvf.com/</a></div>\n",
       " </td>\n",
       " <td style=\"padding:1px;margin:0px;text-align:right;vertical-align:middle;\" width=\"220px\"></td>\n",
       " </tr>]"
      ]
     },
     "execution_count": 33,
     "metadata": {},
     "output_type": "execute_result"
    }
   ],
   "source": [
    "row"
   ]
  },
  {
   "cell_type": "code",
   "execution_count": 42,
   "metadata": {},
   "outputs": [
    {
     "data": {
      "text/plain": [
       "'\\n240\\n'"
      ]
     },
     "execution_count": 42,
     "metadata": {},
     "output_type": "execute_result"
    }
   ],
   "source": [
    "row[0].find_all(\"td\")[1].get_text()"
   ]
  },
  {
   "cell_type": "code",
   "execution_count": null,
   "metadata": {},
   "outputs": [],
   "source": []
  },
  {
   "cell_type": "code",
   "execution_count": 28,
   "metadata": {},
   "outputs": [
    {
     "data": {
      "text/plain": [
       "'\\nCVPR : IEEE/CVF Conference on Computer Vision and Pattern Recognition\\n\\n'"
      ]
     },
     "execution_count": 28,
     "metadata": {},
     "output_type": "execute_result"
    }
   ],
   "source": [
    "# the first element is about the name of the journal;\n",
    "# the second is the website\n",
    "row[0].find_all(\"td\")[3].get_text()"
   ]
  },
  {
   "cell_type": "code",
   "execution_count": 35,
   "metadata": {},
   "outputs": [
    {
     "data": {
      "text/plain": [
       "'CVPR : IEEE/CVF Conference on Computer Vision and Pattern Recognition'"
      ]
     },
     "execution_count": 35,
     "metadata": {},
     "output_type": "execute_result"
    }
   ],
   "source": [
    "import re\n",
    "re.sub('\\n', '', row[0].find_all(\"td\")[3].get_text())"
   ]
  },
  {
   "cell_type": "code",
   "execution_count": 32,
   "metadata": {},
   "outputs": [
    {
     "data": {
      "text/plain": [
       "'http://cvpr2020.thecvf.com/'"
      ]
     },
     "execution_count": 32,
     "metadata": {},
     "output_type": "execute_result"
    }
   ],
   "source": [
    "row[1].find_all(\"td\")[0].find(\"a\")[\"href\"]"
   ]
  },
  {
   "cell_type": "markdown",
   "metadata": {},
   "source": [
    "### ==== some inspection to understand the html file structure (END) ===="
   ]
  },
  {
   "cell_type": "code",
   "execution_count": 43,
   "metadata": {},
   "outputs": [],
   "source": [
    "# put it into a code block\n",
    "\n",
    "context = soup.find(\"div\", {\"id\": \"ajax_content\"})\n",
    "tables = context.find_all(\"table\")\n",
    "\n",
    "rows = []\n",
    "\n",
    "for table in tables:\n",
    "    # each row is the info about the conference\n",
    "    row = table.find_all(\"tr\")\n",
    "    # get the h5 index, need to remove the newline. e.g., '\\n240\\n'\n",
    "    h5_index = re.sub('\\n', '', row[0].find_all(\"td\")[1].get_text())\n",
    "    # the name of the conference, remove the \"newline\"\n",
    "    name = re.sub('\\n', '', row[0].find_all(\"td\")[3].get_text())\n",
    "    # the website\n",
    "    url = row[1].find_all(\"td\")[0].find(\"a\")[\"href\"]\n",
    "    \n",
    "    rows.append([h5_index, name, url])"
   ]
  },
  {
   "cell_type": "code",
   "execution_count": null,
   "metadata": {},
   "outputs": [],
   "source": []
  },
  {
   "cell_type": "code",
   "execution_count": null,
   "metadata": {},
   "outputs": [],
   "source": []
  },
  {
   "cell_type": "code",
   "execution_count": 4,
   "metadata": {},
   "outputs": [],
   "source": [
    "#print(page.status_code)"
   ]
  },
  {
   "cell_type": "code",
   "execution_count": 44,
   "metadata": {},
   "outputs": [],
   "source": [
    "df=pd.DataFrame(rows,columns=['h5_index', 'Name','URL'])"
   ]
  },
  {
   "cell_type": "code",
   "execution_count": 45,
   "metadata": {},
   "outputs": [
    {
     "data": {
      "text/html": [
       "<div>\n",
       "<style scoped>\n",
       "    .dataframe tbody tr th:only-of-type {\n",
       "        vertical-align: middle;\n",
       "    }\n",
       "\n",
       "    .dataframe tbody tr th {\n",
       "        vertical-align: top;\n",
       "    }\n",
       "\n",
       "    .dataframe thead th {\n",
       "        text-align: right;\n",
       "    }\n",
       "</style>\n",
       "<table border=\"1\" class=\"dataframe\">\n",
       "  <thead>\n",
       "    <tr style=\"text-align: right;\">\n",
       "      <th></th>\n",
       "      <th>h5_index</th>\n",
       "      <th>Name</th>\n",
       "      <th>URL</th>\n",
       "    </tr>\n",
       "  </thead>\n",
       "  <tbody>\n",
       "    <tr>\n",
       "      <th>0</th>\n",
       "      <td>240</td>\n",
       "      <td>CVPR : IEEE/CVF Conference on Computer Vision ...</td>\n",
       "      <td>http://cvpr2020.thecvf.com/</td>\n",
       "    </tr>\n",
       "    <tr>\n",
       "      <th>1</th>\n",
       "      <td>169</td>\n",
       "      <td>NeurIPS : Neural Information Processing System...</td>\n",
       "      <td>https://nips.cc/Conferences/2020/CallForPapers</td>\n",
       "    </tr>\n",
       "    <tr>\n",
       "      <th>2</th>\n",
       "      <td>137</td>\n",
       "      <td>ECCV : European Conference on Computer Vision</td>\n",
       "      <td>https://eccv2020.eu/</td>\n",
       "    </tr>\n",
       "    <tr>\n",
       "      <th>3</th>\n",
       "      <td>135</td>\n",
       "      <td>ICML : International Conference on Machine Lea...</td>\n",
       "      <td>https://icml.cc/Conferences/2020</td>\n",
       "    </tr>\n",
       "    <tr>\n",
       "      <th>4</th>\n",
       "      <td>129</td>\n",
       "      <td>ICCV : IEEE/CVF International Conference on Co...</td>\n",
       "      <td>http://iccv2021.thecvf.com/home</td>\n",
       "    </tr>\n",
       "    <tr>\n",
       "      <th>5</th>\n",
       "      <td>106</td>\n",
       "      <td>ACL : Meeting of the Association for Computati...</td>\n",
       "      <td>https://2021.aclweb.org/</td>\n",
       "    </tr>\n",
       "    <tr>\n",
       "      <th>6</th>\n",
       "      <td>95</td>\n",
       "      <td>AAAI : AAAI Conference on Artificial Intelligence</td>\n",
       "      <td>https://aaai.org/Conferences/AAAI-21/</td>\n",
       "    </tr>\n",
       "    <tr>\n",
       "      <th>7</th>\n",
       "      <td>88</td>\n",
       "      <td>EMNLP : Conference on Empirical Methods in Nat...</td>\n",
       "      <td>https://2020.emnlp.org/</td>\n",
       "    </tr>\n",
       "    <tr>\n",
       "      <th>8</th>\n",
       "      <td>86</td>\n",
       "      <td>SIGKDD : ACM SIGKDD International Conference o...</td>\n",
       "      <td>https://www.kdd.org/kdd2020/</td>\n",
       "    </tr>\n",
       "    <tr>\n",
       "      <th>9</th>\n",
       "      <td>67</td>\n",
       "      <td>IJCAI : International Joint Conference on Arti...</td>\n",
       "      <td>https://ijcai20.org</td>\n",
       "    </tr>\n",
       "  </tbody>\n",
       "</table>\n",
       "</div>"
      ],
      "text/plain": [
       "  h5_index                                               Name  \\\n",
       "0      240  CVPR : IEEE/CVF Conference on Computer Vision ...   \n",
       "1      169  NeurIPS : Neural Information Processing System...   \n",
       "2      137      ECCV : European Conference on Computer Vision   \n",
       "3      135  ICML : International Conference on Machine Lea...   \n",
       "4      129  ICCV : IEEE/CVF International Conference on Co...   \n",
       "5      106  ACL : Meeting of the Association for Computati...   \n",
       "6       95  AAAI : AAAI Conference on Artificial Intelligence   \n",
       "7       88  EMNLP : Conference on Empirical Methods in Nat...   \n",
       "8       86  SIGKDD : ACM SIGKDD International Conference o...   \n",
       "9       67  IJCAI : International Joint Conference on Arti...   \n",
       "\n",
       "                                              URL  \n",
       "0                     http://cvpr2020.thecvf.com/  \n",
       "1  https://nips.cc/Conferences/2020/CallForPapers  \n",
       "2                            https://eccv2020.eu/  \n",
       "3                https://icml.cc/Conferences/2020  \n",
       "4                 http://iccv2021.thecvf.com/home  \n",
       "5                        https://2021.aclweb.org/  \n",
       "6           https://aaai.org/Conferences/AAAI-21/  \n",
       "7                         https://2020.emnlp.org/  \n",
       "8                    https://www.kdd.org/kdd2020/  \n",
       "9                             https://ijcai20.org  "
      ]
     },
     "execution_count": 45,
     "metadata": {},
     "output_type": "execute_result"
    }
   ],
   "source": [
    "df.head(10)"
   ]
  },
  {
   "cell_type": "code",
   "execution_count": 49,
   "metadata": {},
   "outputs": [],
   "source": [
    "df[\"h5_index\"] = df[\"h5_index\"].apply(lambda x: int(x))"
   ]
  },
  {
   "cell_type": "code",
   "execution_count": 50,
   "metadata": {},
   "outputs": [
    {
     "data": {
      "text/plain": [
       "h5_index     int64\n",
       "Name        object\n",
       "URL         object\n",
       "dtype: object"
      ]
     },
     "execution_count": 50,
     "metadata": {},
     "output_type": "execute_result"
    }
   ],
   "source": [
    "df.dtypes"
   ]
  },
  {
   "cell_type": "code",
   "execution_count": 52,
   "metadata": {},
   "outputs": [],
   "source": [
    "df.to_csv('top_conference_ML_AI.csv',header=True)"
   ]
  },
  {
   "cell_type": "code",
   "execution_count": null,
   "metadata": {},
   "outputs": [],
   "source": []
  }
 ],
 "metadata": {
  "kernelspec": {
   "display_name": "Python 3",
   "language": "python",
   "name": "python3"
  },
  "language_info": {
   "codemirror_mode": {
    "name": "ipython",
    "version": 3
   },
   "file_extension": ".py",
   "mimetype": "text/x-python",
   "name": "python",
   "nbconvert_exporter": "python",
   "pygments_lexer": "ipython3",
   "version": "3.7.5"
  }
 },
 "nbformat": 4,
 "nbformat_minor": 4
}
